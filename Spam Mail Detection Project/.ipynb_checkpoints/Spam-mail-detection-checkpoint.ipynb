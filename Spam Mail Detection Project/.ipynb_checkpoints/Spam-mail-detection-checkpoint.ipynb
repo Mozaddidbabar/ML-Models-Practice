{
 "cells": [
  {
   "cell_type": "code",
   "execution_count": 1,
   "id": "b59c4d10-e3ad-47ee-bbe1-20b46f51a7f3",
   "metadata": {},
   "outputs": [],
   "source": [
    "import numpy as np\n",
    "import pandas as pd\n",
    "import seaborn as sns"
   ]
  },
  {
   "cell_type": "code",
   "execution_count": 2,
   "id": "eeae8941-76ff-4144-abf2-cbc211be2427",
   "metadata": {},
   "outputs": [
    {
     "data": {
      "text/html": [
       "<div>\n",
       "<style scoped>\n",
       "    .dataframe tbody tr th:only-of-type {\n",
       "        vertical-align: middle;\n",
       "    }\n",
       "\n",
       "    .dataframe tbody tr th {\n",
       "        vertical-align: top;\n",
       "    }\n",
       "\n",
       "    .dataframe thead th {\n",
       "        text-align: right;\n",
       "    }\n",
       "</style>\n",
       "<table border=\"1\" class=\"dataframe\">\n",
       "  <thead>\n",
       "    <tr style=\"text-align: right;\">\n",
       "      <th></th>\n",
       "      <th>Unnamed: 0</th>\n",
       "      <th>text</th>\n",
       "      <th>spam</th>\n",
       "    </tr>\n",
       "  </thead>\n",
       "  <tbody>\n",
       "    <tr>\n",
       "      <th>0</th>\n",
       "      <td>0</td>\n",
       "      <td>Subject: naturally irresistible your corporate...</td>\n",
       "      <td>1</td>\n",
       "    </tr>\n",
       "    <tr>\n",
       "      <th>1</th>\n",
       "      <td>1</td>\n",
       "      <td>Subject: the stock trading gunslinger  fanny i...</td>\n",
       "      <td>1</td>\n",
       "    </tr>\n",
       "    <tr>\n",
       "      <th>2</th>\n",
       "      <td>2</td>\n",
       "      <td>Subject: unbelievable new homes made easy  im ...</td>\n",
       "      <td>1</td>\n",
       "    </tr>\n",
       "    <tr>\n",
       "      <th>3</th>\n",
       "      <td>3</td>\n",
       "      <td>Subject: 4 color printing special  request add...</td>\n",
       "      <td>1</td>\n",
       "    </tr>\n",
       "    <tr>\n",
       "      <th>4</th>\n",
       "      <td>4</td>\n",
       "      <td>Subject: do not have money , get software cds ...</td>\n",
       "      <td>1</td>\n",
       "    </tr>\n",
       "  </tbody>\n",
       "</table>\n",
       "</div>"
      ],
      "text/plain": [
       "   Unnamed: 0                                               text spam\n",
       "0           0  Subject: naturally irresistible your corporate...    1\n",
       "1           1  Subject: the stock trading gunslinger  fanny i...    1\n",
       "2           2  Subject: unbelievable new homes made easy  im ...    1\n",
       "3           3  Subject: 4 color printing special  request add...    1\n",
       "4           4  Subject: do not have money , get software cds ...    1"
      ]
     },
     "execution_count": 2,
     "metadata": {},
     "output_type": "execute_result"
    }
   ],
   "source": [
    "df = pd.read_csv('emails.csv')\n",
    "df.head()"
   ]
  },
  {
   "cell_type": "markdown",
   "id": "73f2bb52-5fe4-49a9-a8de-638c8417e812",
   "metadata": {},
   "source": [
    "# **Droping all extra column from dataframe**"
   ]
  },
  {
   "cell_type": "code",
   "execution_count": 3,
   "id": "8be8d6fb-68a6-4f05-9d1b-154667d6c7dc",
   "metadata": {},
   "outputs": [
    {
     "data": {
      "text/html": [
       "<div>\n",
       "<style scoped>\n",
       "    .dataframe tbody tr th:only-of-type {\n",
       "        vertical-align: middle;\n",
       "    }\n",
       "\n",
       "    .dataframe tbody tr th {\n",
       "        vertical-align: top;\n",
       "    }\n",
       "\n",
       "    .dataframe thead th {\n",
       "        text-align: right;\n",
       "    }\n",
       "</style>\n",
       "<table border=\"1\" class=\"dataframe\">\n",
       "  <thead>\n",
       "    <tr style=\"text-align: right;\">\n",
       "      <th></th>\n",
       "      <th>text</th>\n",
       "      <th>spam</th>\n",
       "    </tr>\n",
       "  </thead>\n",
       "  <tbody>\n",
       "    <tr>\n",
       "      <th>0</th>\n",
       "      <td>Subject: naturally irresistible your corporate...</td>\n",
       "      <td>1</td>\n",
       "    </tr>\n",
       "    <tr>\n",
       "      <th>1</th>\n",
       "      <td>Subject: the stock trading gunslinger  fanny i...</td>\n",
       "      <td>1</td>\n",
       "    </tr>\n",
       "    <tr>\n",
       "      <th>2</th>\n",
       "      <td>Subject: unbelievable new homes made easy  im ...</td>\n",
       "      <td>1</td>\n",
       "    </tr>\n",
       "    <tr>\n",
       "      <th>3</th>\n",
       "      <td>Subject: 4 color printing special  request add...</td>\n",
       "      <td>1</td>\n",
       "    </tr>\n",
       "    <tr>\n",
       "      <th>4</th>\n",
       "      <td>Subject: do not have money , get software cds ...</td>\n",
       "      <td>1</td>\n",
       "    </tr>\n",
       "    <tr>\n",
       "      <th>...</th>\n",
       "      <td>...</td>\n",
       "      <td>...</td>\n",
       "    </tr>\n",
       "    <tr>\n",
       "      <th>5725</th>\n",
       "      <td>Subject: re : research and development charges...</td>\n",
       "      <td>0</td>\n",
       "    </tr>\n",
       "    <tr>\n",
       "      <th>5726</th>\n",
       "      <td>Subject: re : receipts from visit  jim ,  than...</td>\n",
       "      <td>0</td>\n",
       "    </tr>\n",
       "    <tr>\n",
       "      <th>5727</th>\n",
       "      <td>Subject: re : enron case study update  wow ! a...</td>\n",
       "      <td>0</td>\n",
       "    </tr>\n",
       "    <tr>\n",
       "      <th>5728</th>\n",
       "      <td>Subject: re : interest  david ,  please , call...</td>\n",
       "      <td>0</td>\n",
       "    </tr>\n",
       "    <tr>\n",
       "      <th>5729</th>\n",
       "      <td>Subject: news : aurora 5 . 2 update  aurora ve...</td>\n",
       "      <td>0</td>\n",
       "    </tr>\n",
       "  </tbody>\n",
       "</table>\n",
       "<p>5730 rows × 2 columns</p>\n",
       "</div>"
      ],
      "text/plain": [
       "                                                   text spam\n",
       "0     Subject: naturally irresistible your corporate...    1\n",
       "1     Subject: the stock trading gunslinger  fanny i...    1\n",
       "2     Subject: unbelievable new homes made easy  im ...    1\n",
       "3     Subject: 4 color printing special  request add...    1\n",
       "4     Subject: do not have money , get software cds ...    1\n",
       "...                                                 ...  ...\n",
       "5725  Subject: re : research and development charges...    0\n",
       "5726  Subject: re : receipts from visit  jim ,  than...    0\n",
       "5727  Subject: re : enron case study update  wow ! a...    0\n",
       "5728  Subject: re : interest  david ,  please , call...    0\n",
       "5729  Subject: news : aurora 5 . 2 update  aurora ve...    0\n",
       "\n",
       "[5730 rows x 2 columns]"
      ]
     },
     "execution_count": 3,
     "metadata": {},
     "output_type": "execute_result"
    }
   ],
   "source": [
    "# There is some garbage Null column after 2 column which have to remove\n",
    "# df = df.drop(df.columns[2:], axis=1)\n",
    "df = df.drop(['Unnamed: 0'], axis = 1)\n",
    "df"
   ]
  },
  {
   "cell_type": "code",
   "execution_count": 4,
   "id": "5adad5a4-3267-473f-b787-589a62ee5f4a",
   "metadata": {},
   "outputs": [
    {
     "data": {
      "text/plain": [
       "0                                                                                               4359\n",
       "1                                                                                               1367\n",
       " its termination would not  have such a phenomenal impact on the power situation .  however        1\n",
       " mr suresh prabhu                                                                                  1\n",
       "Name: spam, dtype: int64"
      ]
     },
     "execution_count": 4,
     "metadata": {},
     "output_type": "execute_result"
    }
   ],
   "source": [
    "df['spam'].value_counts()"
   ]
  },
  {
   "cell_type": "markdown",
   "id": "d1cc6f6f-05f7-4992-babc-e7cc2e975e19",
   "metadata": {},
   "source": [
    "# **Duplicates Remove**"
   ]
  },
  {
   "cell_type": "code",
   "execution_count": 5,
   "id": "8c7288d2-308b-4d03-bde3-052f8d44c27a",
   "metadata": {},
   "outputs": [
    {
     "data": {
      "text/plain": [
       "(5697, 2)"
      ]
     },
     "execution_count": 5,
     "metadata": {},
     "output_type": "execute_result"
    }
   ],
   "source": [
    "df.drop_duplicates(inplace = True)\n",
    "df.shape"
   ]
  },
  {
   "cell_type": "code",
   "execution_count": 6,
   "id": "864f010f-8912-44bb-a531-7ac80c4ab43d",
   "metadata": {},
   "outputs": [
    {
     "data": {
      "text/plain": [
       "0                                                                                               4326\n",
       "1                                                                                               1367\n",
       " its termination would not  have such a phenomenal impact on the power situation .  however        1\n",
       " mr suresh prabhu                                                                                  1\n",
       "Name: spam, dtype: int64"
      ]
     },
     "execution_count": 6,
     "metadata": {},
     "output_type": "execute_result"
    }
   ],
   "source": [
    "df['spam'].value_counts()"
   ]
  },
  {
   "cell_type": "markdown",
   "id": "586a4e69-ced5-46eb-9af4-48152603d572",
   "metadata": {},
   "source": [
    "# **Missing Value Removal**"
   ]
  },
  {
   "cell_type": "code",
   "execution_count": 7,
   "id": "e640100a-5cf6-4e1b-bb8d-dd2e2c0250ea",
   "metadata": {},
   "outputs": [
    {
     "data": {
      "text/plain": [
       "text    0\n",
       "spam    2\n",
       "dtype: int64"
      ]
     },
     "execution_count": 7,
     "metadata": {},
     "output_type": "execute_result"
    }
   ],
   "source": [
    "df.isnull().sum()"
   ]
  },
  {
   "cell_type": "code",
   "execution_count": 8,
   "id": "cd187d87-fd2d-4a02-8cd3-f504ccf55ba1",
   "metadata": {},
   "outputs": [
    {
     "data": {
      "text/plain": [
       "text    0\n",
       "spam    0\n",
       "dtype: int64"
      ]
     },
     "execution_count": 8,
     "metadata": {},
     "output_type": "execute_result"
    }
   ],
   "source": [
    "df = df.dropna()\n",
    "df.isnull().sum()"
   ]
  },
  {
   "cell_type": "code",
   "execution_count": 9,
   "id": "ef52eb04-5a4f-46f4-971e-6589269eac01",
   "metadata": {},
   "outputs": [
    {
     "data": {
      "text/plain": [
       "0                                                                                               4326\n",
       "1                                                                                               1367\n",
       " its termination would not  have such a phenomenal impact on the power situation .  however        1\n",
       " mr suresh prabhu                                                                                  1\n",
       "Name: spam, dtype: int64"
      ]
     },
     "execution_count": 9,
     "metadata": {},
     "output_type": "execute_result"
    }
   ],
   "source": [
    "df['spam'].value_counts()"
   ]
  },
  {
   "cell_type": "code",
   "execution_count": 10,
   "id": "3a850aa5-fa37-4380-a886-48e9cc6fd12a",
   "metadata": {},
   "outputs": [],
   "source": [
    "# df = df[~df['spam'].isin([' its termination would not have such a phenomenal impact on the power situation . however', 'mr suresh prabhu'])]\n",
    "# df['spam'].value_counts()"
   ]
  },
  {
   "cell_type": "markdown",
   "id": "f6510d2d-dcbd-46c7-a572-2c8b34924a46",
   "metadata": {},
   "source": [
    "# **X Y separation**"
   ]
  },
  {
   "cell_type": "code",
   "execution_count": 11,
   "id": "2b961cc6-53ab-4135-9785-68b2cb46ca9c",
   "metadata": {},
   "outputs": [
    {
     "data": {
      "text/plain": [
       "array(['1', '1', '1', ..., '0', '0', '0'], dtype=object)"
      ]
     },
     "execution_count": 11,
     "metadata": {},
     "output_type": "execute_result"
    }
   ],
   "source": [
    "X = df.text.values\n",
    "Y = df.spam.values\n",
    "Y"
   ]
  },
  {
   "cell_type": "markdown",
   "id": "4b615f45-5f26-422d-91bf-8158f059a4f5",
   "metadata": {},
   "source": [
    "# **Train Test Split**"
   ]
  },
  {
   "cell_type": "code",
   "execution_count": 12,
   "id": "6ca4ab00-0ffb-4acb-83f7-85634074d681",
   "metadata": {},
   "outputs": [],
   "source": [
    "from sklearn.model_selection import train_test_split\n",
    "xtrain, xtest, ytrain, ytest = train_test_split(X, Y, test_size = 0.2, random_state =42)"
   ]
  },
  {
   "cell_type": "markdown",
   "id": "2fb94834-3131-4012-95c2-e124a347b392",
   "metadata": {},
   "source": [
    "# **Data Preprocessing**"
   ]
  },
  {
   "cell_type": "code",
   "execution_count": 13,
   "id": "00f25f97-5636-455d-8c9c-44c984d3ef0b",
   "metadata": {},
   "outputs": [],
   "source": [
    "from sklearn.feature_extraction.text import CountVectorizer\n",
    "cv = CountVectorizer()"
   ]
  },
  {
   "cell_type": "markdown",
   "id": "37fb5aa8-5d91-445d-a780-737b74f11720",
   "metadata": {},
   "source": [
    "### **Fit Transform X train Data**"
   ]
  },
  {
   "cell_type": "code",
   "execution_count": 14,
   "id": "63605ddb-aebe-406d-b8dd-635650c4ca32",
   "metadata": {},
   "outputs": [],
   "source": [
    "cv_xtrain = cv.fit_transform(xtrain)"
   ]
  },
  {
   "cell_type": "code",
   "execution_count": 15,
   "id": "9b4243d3-f7de-4754-9f42-0f87ecfa2749",
   "metadata": {},
   "outputs": [
    {
     "data": {
      "text/plain": [
       "array([[0, 0, 0, ..., 0, 0, 0],\n",
       "       [0, 0, 0, ..., 0, 0, 0],\n",
       "       [1, 0, 0, ..., 0, 0, 0],\n",
       "       ...,\n",
       "       [0, 0, 0, ..., 0, 0, 0],\n",
       "       [0, 0, 0, ..., 0, 0, 0],\n",
       "       [0, 0, 0, ..., 0, 0, 0]], dtype=int64)"
      ]
     },
     "execution_count": 15,
     "metadata": {},
     "output_type": "execute_result"
    }
   ],
   "source": [
    "cv_xtrain.toarray()"
   ]
  },
  {
   "cell_type": "code",
   "execution_count": 16,
   "id": "73d49386-2d25-4f4a-bf4a-39bfb0e8ed1c",
   "metadata": {},
   "outputs": [
    {
     "data": {
      "text/plain": [
       "(4556, 33744)"
      ]
     },
     "execution_count": 16,
     "metadata": {},
     "output_type": "execute_result"
    }
   ],
   "source": [
    "cv_xtrain.shape"
   ]
  },
  {
   "cell_type": "markdown",
   "id": "acd71f48-1922-4413-aed4-b24a0ee339db",
   "metadata": {},
   "source": [
    "# **ML Algorithms**\n",
    "## **Multi-nomial Naive Bayes**"
   ]
  },
  {
   "cell_type": "code",
   "execution_count": 17,
   "id": "9ec7d48b-2aef-4945-bb8d-e110b6fc58d2",
   "metadata": {},
   "outputs": [],
   "source": [
    "from sklearn.naive_bayes import MultinomialNB\n",
    "MNB = MultinomialNB()"
   ]
  },
  {
   "cell_type": "code",
   "execution_count": 18,
   "id": "499badde-8d93-4952-ab29-b9a07418ec6d",
   "metadata": {},
   "outputs": [
    {
     "data": {
      "text/plain": [
       "MultinomialNB()"
      ]
     },
     "execution_count": 18,
     "metadata": {},
     "output_type": "execute_result"
    }
   ],
   "source": [
    "MNB.fit(cv_xtrain, ytrain)"
   ]
  },
  {
   "cell_type": "markdown",
   "id": "db0e88a0-a640-4915-ba4e-9681797f6993",
   "metadata": {},
   "source": [
    "### **Transform X test data**"
   ]
  },
  {
   "cell_type": "code",
   "execution_count": 19,
   "id": "5d786406-16bf-40d6-aa8c-0f101b1a8d0a",
   "metadata": {},
   "outputs": [],
   "source": [
    "cv_xtest = cv.transform(xtest)"
   ]
  },
  {
   "cell_type": "code",
   "execution_count": 20,
   "id": "92f809b0-c2b6-4c02-81e2-c0e292b0a579",
   "metadata": {},
   "outputs": [
    {
     "data": {
      "text/plain": [
       "(1139, 33744)"
      ]
     },
     "execution_count": 20,
     "metadata": {},
     "output_type": "execute_result"
    }
   ],
   "source": [
    "cv_xtest.toarray()\n",
    "cv_xtest.shape"
   ]
  },
  {
   "cell_type": "code",
   "execution_count": 21,
   "id": "20e56bcd-e954-4285-a1de-e92f90875067",
   "metadata": {},
   "outputs": [
    {
     "data": {
      "text/plain": [
       "0.9877085162423178"
      ]
     },
     "execution_count": 21,
     "metadata": {},
     "output_type": "execute_result"
    }
   ],
   "source": [
    "MNB.score(cv_xtest, ytest)"
   ]
  },
  {
   "cell_type": "code",
   "execution_count": 22,
   "id": "7faafc7e-11b5-41f9-a527-3f940869fb86",
   "metadata": {},
   "outputs": [],
   "source": [
    "emails = ['Hello, I am writing to follow up on the proposal we discussed in our last meeting. Do you have any further questions or concerns? Best regards, John', 'Dear customer, We are excited to announce a new product that we will be launching next month. It is designed to help improve your productivity and save you time. Stay tuned for more details! Best regards, The Product Team', 'This is a spam, do not open it']"
   ]
  },
  {
   "cell_type": "code",
   "execution_count": 23,
   "id": "096064d9-b937-4d95-bea9-8f686e15ca92",
   "metadata": {},
   "outputs": [],
   "source": [
    "cv_emails = cv.transform(emails)"
   ]
  },
  {
   "cell_type": "code",
   "execution_count": 24,
   "id": "328da74a-85d5-460f-87a5-d300345f73a9",
   "metadata": {},
   "outputs": [
    {
     "data": {
      "text/plain": [
       "array(['0', '0', '1'], dtype='<U92')"
      ]
     },
     "execution_count": 24,
     "metadata": {},
     "output_type": "execute_result"
    }
   ],
   "source": [
    "MNB.predict(cv_emails)"
   ]
  },
  {
   "cell_type": "markdown",
   "id": "c7f27b7f-a78d-4b81-8d0f-43ade0ffe265",
   "metadata": {},
   "source": [
    "<h2 style='color:Blue'><b>So, Multinomial Naive Bayes Performing well with Accuracy of 98.8%</b></h2>"
   ]
  }
 ],
 "metadata": {
  "kernelspec": {
   "display_name": "Python 3 (ipykernel)",
   "language": "python",
   "name": "python3"
  },
  "language_info": {
   "codemirror_mode": {
    "name": "ipython",
    "version": 3
   },
   "file_extension": ".py",
   "mimetype": "text/x-python",
   "name": "python",
   "nbconvert_exporter": "python",
   "pygments_lexer": "ipython3",
   "version": "3.9.12"
  }
 },
 "nbformat": 4,
 "nbformat_minor": 5
}
